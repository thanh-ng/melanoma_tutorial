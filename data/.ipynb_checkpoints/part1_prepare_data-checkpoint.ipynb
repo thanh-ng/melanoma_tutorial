{
 "cells": [
  {
   "cell_type": "code",
   "execution_count": 3,
   "metadata": {
    "collapsed": false
   },
   "outputs": [],
   "source": [
    "import numpy as np\n",
    "import PIL\n",
    "import matplotlib\n",
    "matplotlib.use('Agg')\n",
    "import matplotlib.pyplot as plt\n",
    "%matplotlib inline\n",
    "\n",
    "#import cv2\n",
    "import os\n",
    "import random"
   ]
  },
  {
   "cell_type": "markdown",
   "metadata": {},
   "source": [
    "# TX"
   ]
  },
  {
   "cell_type": "code",
   "execution_count": 5,
   "metadata": {
    "collapsed": true
   },
   "outputs": [],
   "source": [
    "# Directory of the training data\n",
    "train_data_dir = '/home/thanhnt/phase_1/data'\n",
    "root = '/home/thanhnt/phase_1'"
   ]
  },
  {
   "cell_type": "code",
   "execution_count": 7,
   "metadata": {
    "collapsed": false
   },
   "outputs": [
    {
     "name": "stdout",
     "output_type": "stream",
     "text": [
      "900\n"
     ]
    }
   ],
   "source": [
    "img_list = os.listdir('%s/img/'%train_data_dir)\n",
    "img_list = [x[:-4] for x in img_list]\n",
    "img_set = set(img_list)\n",
    "print(len(img_set))"
   ]
  },
  {
   "cell_type": "code",
   "execution_count": 9,
   "metadata": {
    "collapsed": false
   },
   "outputs": [],
   "source": [
    "random.seed(2015)\n",
    "random.shuffle(img_list)"
   ]
  },
  {
   "cell_type": "code",
   "execution_count": 6,
   "metadata": {
    "collapsed": false
   },
   "outputs": [],
   "source": [
    "val_list = img_list[:int(len(img_set)*.1)]"
   ]
  },
  {
   "cell_type": "code",
   "execution_count": 7,
   "metadata": {
    "collapsed": false
   },
   "outputs": [
    {
     "name": "stdout",
     "output_type": "stream",
     "text": [
      "90\n"
     ]
    }
   ],
   "source": [
    "val_set = set(val_list)\n",
    "print(len(val_set))"
   ]
  },
  {
   "cell_type": "code",
   "execution_count": 8,
   "metadata": {
    "collapsed": true
   },
   "outputs": [],
   "source": [
    "f_p = open('%s/val_list.txt'%data_f,'w')\n",
    "f_p.write('\\n'.join(['img/'+i+'.jpg label_zo/'+i+'_Segmentation.png' for i in val_list]))\n",
    "f_p.close()"
   ]
  },
  {
   "cell_type": "code",
   "execution_count": 9,
   "metadata": {
    "collapsed": false
   },
   "outputs": [
    {
     "name": "stdout",
     "output_type": "stream",
     "text": [
      "810\n"
     ]
    }
   ],
   "source": [
    "train_set = img_set - val_set\n",
    "train_list = list(train_set)\n",
    "train_list.sort()\n",
    "print len(train_list)"
   ]
  },
  {
   "cell_type": "code",
   "execution_count": 10,
   "metadata": {
    "collapsed": true
   },
   "outputs": [],
   "source": [
    "f_p = open('%s/train.txt'%data_f,'w')\n",
    "f_p.write('\\n'.join(train_list))\n",
    "f_p.close()"
   ]
  },
  {
   "cell_type": "code",
   "execution_count": 11,
   "metadata": {
    "collapsed": true
   },
   "outputs": [],
   "source": [
    "f_p = open('%s/train_list.txt'%data_f,'w')\n",
    "f_p.write('\\n'.join(['img/'+i+'.jpg label_zo/'+i+'_Segmentation.png' for i in train_list]))\n",
    "f_p.close()"
   ]
  },
  {
   "cell_type": "markdown",
   "metadata": {},
   "source": [
    "# zero one Image"
   ]
  },
  {
   "cell_type": "code",
   "execution_count": 11,
   "metadata": {
    "collapsed": true
   },
   "outputs": [],
   "source": [
    "root = '/home/thanhnt/phase_1'\n",
    "data_f = '%s/data'%root"
   ]
  },
  {
   "cell_type": "code",
   "execution_count": 15,
   "metadata": {
    "collapsed": true
   },
   "outputs": [],
   "source": [
    "img_list = os.listdir('%s/label/'%data_f)"
   ]
  },
  {
   "cell_type": "code",
   "execution_count": 16,
   "metadata": {
    "collapsed": true
   },
   "outputs": [],
   "source": [
    "label_colors = [(0,0,0),(255,255,255)]"
   ]
  },
  {
   "cell_type": "code",
   "execution_count": 17,
   "metadata": {
    "collapsed": false
   },
   "outputs": [
    {
     "name": "stdout",
     "output_type": "stream",
     "text": [
      "train_label_Image done\n"
     ]
    }
   ],
   "source": [
    "for in_idx, in_ in enumerate(img_list):\n",
    "    im = PIL.Image.open('%s/label/%s.png'%(data_f,in_[:-4])).convert('RGB')\n",
    "    im = np.array(im)\n",
    "\n",
    "    tmp = np.uint8(np.zeros(im[:,:,0:1].shape))\n",
    "    for i in range(0,len(label_colors)):\n",
    "        tmp[:,:,0] = tmp[:,:,0] + i*np.prod(np.equal(im,label_colors[i]),2)\n",
    "\n",
    "    PIL.Image.fromarray(tmp[:,:,0]).save('%s/label_zo/%s.png'%(data_f,in_[:-4]))\n",
    "print 'train_label_Image done'"
   ]
  },
  {
   "cell_type": "markdown",
   "metadata": {
    "collapsed": true
   },
   "source": [
    "# Compute mean"
   ]
  },
  {
   "cell_type": "code",
   "execution_count": 18,
   "metadata": {
    "collapsed": false
   },
   "outputs": [],
   "source": [
    "## naive approach\n",
    "bgr_sum_mean = np.array([0., 0., 0.])\n",
    "for in_ in train_list:\n",
    "    img_orig_arr = np.array(PIL.Image.open('%s/img/%s.jpg'%(data_f,in_)).convert('RGB'))\n",
    "    img_orig_arr = img_orig_arr[:, :, ::-1]\n",
    "    img_orig_arr = img_orig_arr.transpose((2, 0, 1))\n",
    "    bgr_sum_mean += img_orig_arr.reshape(3, img_orig_arr.shape[1] * img_orig_arr.shape[2]).mean(axis = 1)"
   ]
  },
  {
   "cell_type": "code",
   "execution_count": 19,
   "metadata": {
    "collapsed": false
   },
   "outputs": [
    {
     "name": "stdout",
     "output_type": "stream",
     "text": [
      "BGR mean:  [ 144.15102414  157.14571714  184.01073585]\n"
     ]
    }
   ],
   "source": [
    "print 'BGR mean: ', bgr_sum_mean / (1. * len(train_list))"
   ]
  },
  {
   "cell_type": "code",
   "execution_count": null,
   "metadata": {
    "collapsed": true
   },
   "outputs": [],
   "source": []
  }
 ],
 "metadata": {
  "kernelspec": {
   "display_name": "Python 2",
   "language": "python",
   "name": "python2"
  },
  "language_info": {
   "codemirror_mode": {
    "name": "ipython",
    "version": 2
   },
   "file_extension": ".py",
   "mimetype": "text/x-python",
   "name": "python",
   "nbconvert_exporter": "python",
   "pygments_lexer": "ipython2",
   "version": "2.7.6"
  }
 },
 "nbformat": 4,
 "nbformat_minor": 0
}
