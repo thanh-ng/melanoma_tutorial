{
 "cells": [
  {
   "cell_type": "code",
   "execution_count": 2,
   "metadata": {
    "collapsed": false
   },
   "outputs": [
    {
     "name": "stderr",
     "output_type": "stream",
     "text": [
      "/home/thanhnt/anaconda2/lib/python2.7/site-packages/matplotlib/__init__.py:1350: UserWarning:  This call to matplotlib.use() has no effect\n",
      "because the backend has already been chosen;\n",
      "matplotlib.use() must be called *before* pylab, matplotlib.pyplot,\n",
      "or matplotlib.backends is imported for the first time.\n",
      "\n",
      "  warnings.warn(_use_error_msg)\n"
     ]
    }
   ],
   "source": [
    "import numpy as np\n",
    "import PIL\n",
    "from PIL import Image\n",
    "\n",
    "import matplotlib\n",
    "import matplotlib.image as img\n",
    "matplotlib.use('Agg')\n",
    "import matplotlib.pyplot as plt\n",
    "%matplotlib inline\n",
    "\n",
    "import os\n",
    "import sys\n",
    "import random\n",
    "\n",
    "from sklearn.metrics import jaccard_similarity_score, accuracy_score, recall_score"
   ]
  },
  {
   "cell_type": "code",
   "execution_count": 4,
   "metadata": {
    "collapsed": true
   },
   "outputs": [],
   "source": [
    "sys.path.append('/home/thanhnt/deeplab-public/python')"
   ]
  },
  {
   "cell_type": "code",
   "execution_count": 6,
   "metadata": {
    "collapsed": true
   },
   "outputs": [],
   "source": [
    "import caffe"
   ]
  },
  {
   "cell_type": "markdown",
   "metadata": {},
   "source": [
    "# 1. Prepare test data"
   ]
  },
  {
   "cell_type": "code",
   "execution_count": 8,
   "metadata": {
    "collapsed": true
   },
   "outputs": [],
   "source": [
    "root = '/home/thanhnt/phase_1'\n",
    "model_dir = root + '/models'\n",
    "data_dir = root + '/data'\n",
    "work_dir = root + '/work'\n",
    "test_dir = data_dir + '/test'\n",
    "save_dir = data_dir + '/result/segs'"
   ]
  },
  {
   "cell_type": "code",
   "execution_count": 10,
   "metadata": {
    "collapsed": true
   },
   "outputs": [],
   "source": [
    "test_list = os.listdir(test_dir)"
   ]
  },
  {
   "cell_type": "code",
   "execution_count": 11,
   "metadata": {
    "collapsed": false
   },
   "outputs": [
    {
     "data": {
      "text/plain": [
       "'ISIC_0011177.jpg'"
      ]
     },
     "execution_count": 11,
     "metadata": {},
     "output_type": "execute_result"
    }
   ],
   "source": [
    "test_list[0]"
   ]
  },
  {
   "cell_type": "code",
   "execution_count": 13,
   "metadata": {
    "collapsed": true
   },
   "outputs": [],
   "source": [
    "prototxt = work_dir + '/fine_tuning_deploy.prototxt'\n",
    "model = model_dir + '/snapshots/full_iter_4500.caffemodel'"
   ]
  },
  {
   "cell_type": "code",
   "execution_count": 15,
   "metadata": {
    "collapsed": true
   },
   "outputs": [],
   "source": [
    "net = caffe.Net(prototxt, model)"
   ]
  },
  {
   "cell_type": "code",
   "execution_count": 17,
   "metadata": {
    "collapsed": true
   },
   "outputs": [],
   "source": [
    "net.set_mode_gpu()\n",
    "net.set_device(0)"
   ]
  },
  {
   "cell_type": "code",
   "execution_count": 18,
   "metadata": {
    "collapsed": false
   },
   "outputs": [],
   "source": [
    "mu = np.array([ 144.15102414 , 157.14571714,184.01073585])"
   ]
  },
  {
   "cell_type": "markdown",
   "metadata": {},
   "source": [
    "# 2. Write test results"
   ]
  },
  {
   "cell_type": "code",
   "execution_count": 67,
   "metadata": {
    "collapsed": false
   },
   "outputs": [],
   "source": [
    "for img_name in test_list:\n",
    "    img_origin = Image.open(test_dir + '/' + img_name)\n",
    "    img_rgb = img_origin.resize((500,500), Image.NEAREST)\n",
    "    \n",
    "    # convert RGB to BGR\n",
    "    img_bgr = np.array(img_rgb, dtype = np.float32)\n",
    "    img_bgr = img_bgr[:,:,::-1]\n",
    "    img_bgr = img_bgr.transpose((2,0,1)) # (chanel dim, 0 dim, 1 dim)\n",
    "    \n",
    "    img_bgr[0] = img_bgr[0] - mu[0]\n",
    "    img_bgr[1] = img_bgr[1] - mu[1]\n",
    "    img_bgr[2] = img_bgr[2] - mu[2]\n",
    "\n",
    "    # put the test data to blobs\n",
    "    net.blobs['data'].reshape(1, *img_bgr.shape)\n",
    "    net.blobs['data'].data[...] = img_bgr\n",
    "    net.blobs['data_dim'].data[...] = np.array([500,500]).reshape(1,1,1,2)\n",
    "    \n",
    "    # pass the test data to net\n",
    "    net.forward()\n",
    "    \n",
    "    # type: numpy array\n",
    "    img_seg_noCRF = net.blobs['upscore'].data[0].argmax(axis = 0)\n",
    "    img_seg_CRF = net.blobs['upscore_crf'].data[0].argmax(axis = 0)\n",
    "    \n",
    "    #print img_seg_CRF.max()\n",
    "    \n",
    "    save_name_noCRF = save_dir + '/nocrf/' + img_name[:-4] + '_Segmentation.jpg'\n",
    "    save_name_CRF = save_dir + '/crf/' + img_name[:-4] + '_Segmentation.jpg'\n",
    "    \n",
    "\n",
    "    # save numpy array to image\n",
    "    \n",
    "    img.imsave(save_name_noCRF, img_seg_noCRF, cmap = 'gray')\n",
    "    img.imsave(save_name_CRF, img_seg_CRF, cmap = 'gray')\n",
    "    \n",
    "    # resize Image and save to Image-typed \n",
    "    img_seg_noCRF = Image.open(save_name_noCRF).resize(img_origin.size, Image.NEAREST).convert('L').convert(\"1\")\n",
    "    img_seg_noCRF.save(save_name_noCRF[:-4] + '.png')\n",
    "    \n",
    "    img_seg_CRF = Image.open(save_name_CRF).resize(img_origin.size, Image.NEAREST).convert('L').convert(\"1\")\n",
    "    img_seg_CRF.save(save_name_CRF[:-4] + '.png')\n",
    "    \n",
    "    ! rm -rf $save_name_CRF $save_name_noCRF\n",
    "# Ouput format: binary [0,255], *.png"
   ]
  },
  {
   "cell_type": "markdown",
   "metadata": {},
   "source": [
    "# 3. Checki"
   ]
  },
  {
   "cell_type": "code",
   "execution_count": 77,
   "metadata": {
    "collapsed": false
   },
   "outputs": [
    {
     "data": {
      "text/plain": [
       "1.0"
      ]
     },
     "execution_count": 77,
     "metadata": {},
     "output_type": "execute_result"
    }
   ],
   "source": [
    "#print list(img_seg_CRF.getdata())\n",
    "#plt.imshow(img_seg_CRF)\n",
    "im = plt.imread(save_name_CRF[:-4] + '.png')\n",
    "im2 = plt.imread(data_dir + '/label/ISIC_0000000_Segmentation.png')\n",
    "\n",
    "im2.max()"
   ]
  },
  {
   "cell_type": "code",
   "execution_count": 39,
   "metadata": {
    "collapsed": false
   },
   "outputs": [
    {
     "name": "stdout",
     "output_type": "stream",
     "text": [
      "data_dim\t(1, 1, 1, 2)\n",
      "data\t(1, 3, 500, 500)\n",
      "data_input_1_split_0\t(1, 3, 500, 500)\n",
      "data_input_1_split_1\t(1, 3, 500, 500)\n",
      "conv1_1\t(1, 64, 500, 500)\n",
      "conv1_2\t(1, 64, 500, 500)\n",
      "pool1\t(1, 64, 251, 251)\n",
      "conv2_1\t(1, 128, 251, 251)\n",
      "conv2_2\t(1, 128, 251, 251)\n",
      "pool2\t(1, 128, 126, 126)\n",
      "conv3_1\t(1, 256, 126, 126)\n",
      "conv3_2\t(1, 256, 126, 126)\n",
      "conv3_3\t(1, 256, 126, 126)\n",
      "pool3\t(1, 256, 64, 64)\n",
      "conv4_1\t(1, 512, 64, 64)\n",
      "conv4_2\t(1, 512, 64, 64)\n",
      "conv4_3\t(1, 512, 64, 64)\n",
      "pool4\t(1, 512, 64, 64)\n",
      "conv5_1\t(1, 512, 64, 64)\n",
      "conv5_2\t(1, 512, 64, 64)\n",
      "conv5_3\t(1, 512, 64, 64)\n",
      "pool5\t(1, 512, 64, 64)\n",
      "pool5a\t(1, 512, 64, 64)\n",
      "fc6\t(1, 1024, 64, 64)\n",
      "fc7\t(1, 1024, 64, 64)\n",
      "fc8_baxter\t(1, 2, 64, 64)\n",
      "upscore\t(1, 2, 500, 500)\n",
      "upscore_crf\t(1, 2, 500, 500)\n"
     ]
    }
   ],
   "source": [
    "# show activations\n",
    "for layer_name, blob in net.blobs.iteritems():\n",
    "    print layer_name + '\\t' + str(blob.data.shape)"
   ]
  },
  {
   "cell_type": "code",
   "execution_count": 42,
   "metadata": {
    "collapsed": false
   },
   "outputs": [
    {
     "name": "stdout",
     "output_type": "stream",
     "text": [
      "conv1_1\t(64, 3, 3, 3) (1, 1, 1, 64)\n",
      "conv1_2\t(64, 64, 3, 3) (1, 1, 1, 64)\n",
      "conv2_1\t(128, 64, 3, 3) (1, 1, 1, 128)\n",
      "conv2_2\t(128, 128, 3, 3) (1, 1, 1, 128)\n",
      "conv3_1\t(256, 128, 3, 3) (1, 1, 1, 256)\n",
      "conv3_2\t(256, 256, 3, 3) (1, 1, 1, 256)\n",
      "conv3_3\t(256, 256, 3, 3) (1, 1, 1, 256)\n",
      "conv4_1\t(512, 256, 3, 3) (1, 1, 1, 512)\n",
      "conv4_2\t(512, 512, 3, 3) (1, 1, 1, 512)\n",
      "conv4_3\t(512, 512, 3, 3) (1, 1, 1, 512)\n",
      "conv5_1\t(512, 512, 3, 3) (1, 1, 1, 512)\n",
      "conv5_2\t(512, 512, 3, 3) (1, 1, 1, 512)\n",
      "conv5_3\t(512, 512, 3, 3) (1, 1, 1, 512)\n",
      "fc6\t(1024, 512, 3, 3) (1, 1, 1, 1024)\n",
      "fc7\t(1024, 1024, 1, 1) (1, 1, 1, 1024)\n",
      "fc8_baxter\t(2, 1024, 1, 1) (1, 1, 1, 2)\n"
     ]
    }
   ],
   "source": [
    "#  show weights\n",
    "for layer_name, param in net.params.iteritems():\n",
    "    print layer_name+'\\t'+str(param[0].data.shape),str(param[1].data.shape)"
   ]
  },
  {
   "cell_type": "code",
   "execution_count": 55,
   "metadata": {
    "collapsed": false
   },
   "outputs": [
    {
     "data": {
      "text/plain": [
       "array([[[ 1000.]]], dtype=float32)"
      ]
     },
     "execution_count": 55,
     "metadata": {},
     "output_type": "execute_result"
    }
   ],
   "source": [
    "# OrderedDict net.blobs\n",
    "np.sum(net.blobs['data_dim'].data, axis = 3)"
   ]
  }
 ],
 "metadata": {
  "kernelspec": {
   "display_name": "Python 2",
   "language": "python",
   "name": "python2"
  },
  "language_info": {
   "codemirror_mode": {
    "name": "ipython",
    "version": 2
   },
   "file_extension": ".py",
   "mimetype": "text/x-python",
   "name": "python",
   "nbconvert_exporter": "python",
   "pygments_lexer": "ipython2",
   "version": "2.7.6"
  }
 },
 "nbformat": 4,
 "nbformat_minor": 0
}
